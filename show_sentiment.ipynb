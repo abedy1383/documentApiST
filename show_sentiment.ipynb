{
 "cells": [
  {
   "cell_type": "code",
   "execution_count": null,
   "metadata": {},
   "outputs": [],
   "source": [
    "# link requests\n",
    "\n",
    "{\n",
    "    \"url\" : \"http://127.0.0.1:8000/api/show/sentiment/\"\n",
    "}"
   ]
  },
  {
   "cell_type": "markdown",
   "metadata": {},
   "source": [
    "در صورت ارسال درخواست به صورت get"
   ]
  },
  {
   "cell_type": "code",
   "execution_count": null,
   "metadata": {},
   "outputs": [],
   "source": [
    "{\n",
    "    \"massage\": \"This route is only for testing with the post method\",\n",
    "    \"data\": {\n",
    "        \"validateor\": [\n",
    "            {\n",
    "                \"api\": {\n",
    "                    \"max_length\": 1000,\n",
    "                    \"required\": True,\n",
    "                    \"type\": \"CharField\"\n",
    "                }\n",
    "            },\n",
    "            {\n",
    "                \"code\": {\n",
    "                    \"max_length\": None,\n",
    "                    \"required\": True,\n",
    "                    \"type\": \"CharField\"\n",
    "                }\n",
    "            }\n",
    "        ]\n",
    "    },\n",
    "    \"status_code\": 204\n",
    "}"
   ]
  },
  {
   "cell_type": "markdown",
   "metadata": {},
   "source": [
    "واسه ارسال دیتا به سرور از مقادیر بالای استفاده میکنی مثلا "
   ]
  },
  {
   "cell_type": "code",
   "execution_count": null,
   "metadata": {},
   "outputs": [],
   "source": [
    "{\n",
    "    \"code\" : \"< کدی که زمان تحلیل دادیم >\" , \n",
    "    \"api\" : \"< api >\"\n",
    "}"
   ]
  },
  {
   "cell_type": "markdown",
   "metadata": {},
   "source": [
    "در صورت درست بودن مقادیر \n",
    "دیتا ها فقط یک بار قابل خوندن هستن "
   ]
  },
  {
   "cell_type": "code",
   "execution_count": null,
   "metadata": {},
   "outputs": [],
   "source": [
    "{\n",
    "    \"massage\": \"ok sentiment text persion\",\n",
    "    \"data\": {\n",
    "        \"username\": \"dhsfgdhjfgdsjhf\",\n",
    "        \"Sentiment\": \"displayable (positive)\",\n",
    "        \"timestamp\": 1693721031.4050803\n",
    "    },\n",
    "    \"status_code\": 200\n",
    "}"
   ]
  },
  {
   "cell_type": "markdown",
   "metadata": {},
   "source": [
    "ارسال درخواست خیلی سریع قبل از تحلیل کردن متن \n",
    "در این حالت باید صبر کنید شبکه تحلیل کنه"
   ]
  },
  {
   "cell_type": "code",
   "execution_count": null,
   "metadata": {},
   "outputs": [],
   "source": [
    "{\n",
    "    \"massage\": \"not code\",\n",
    "    \"data\": {\n",
    "        \"errors\": [\n",
    "            \"not find data\"\n",
    "        ]\n",
    "    },\n",
    "    \"status_code\": 405\n",
    "}"
   ]
  }
 ],
 "metadata": {
  "language_info": {
   "name": "python"
  },
  "orig_nbformat": 4
 },
 "nbformat": 4,
 "nbformat_minor": 2
}
