{
 "cells": [
  {
   "cell_type": "markdown",
   "metadata": {},
   "source": [
    "dociument api"
   ]
  },
  {
   "cell_type": "code",
   "execution_count": null,
   "metadata": {},
   "outputs": [],
   "source": [
    "# link requests\n",
    "\n",
    "{\n",
    "    \"url\" : \"http://127.0.0.1:8000/api/login/user/\"\n",
    "}"
   ]
  },
  {
   "cell_type": "markdown",
   "metadata": {},
   "source": [
    "در صورت ارسال درخواست به صورت get"
   ]
  },
  {
   "cell_type": "code",
   "execution_count": null,
   "metadata": {},
   "outputs": [],
   "source": [
    "{\n",
    "    \"massage\": \"This route is only for testing with the post method\",\n",
    "    \"data\": {\n",
    "        \"validateor\": [\n",
    "            {\n",
    "                \"username\": {\n",
    "                    \"max_length\": 20,\n",
    "                    \"required\": True,\n",
    "                    \"type\": \"CharField\"\n",
    "                }\n",
    "            },\n",
    "            {\n",
    "                \"password\": {\n",
    "                    \"max_length\": 40,\n",
    "                    \"required\": True,\n",
    "                    \"type\": \"CharField\"\n",
    "                }\n",
    "            }\n",
    "        ]\n",
    "    },\n",
    "    \"status_code\": 204\n",
    "}"
   ]
  },
  {
   "cell_type": "markdown",
   "metadata": {},
   "source": [
    "واسه ارسال دیتا به سرور از مقادیر بالای استفاده میکنی مثلا "
   ]
  },
  {
   "cell_type": "code",
   "execution_count": null,
   "metadata": {},
   "outputs": [],
   "source": [
    "{\n",
    "    \"password\" : \"rezadada:)\" , \n",
    "    \"username\" : \"abolfazl\" \n",
    "}\n",
    "#همه دیتا های ارسالی ه صورت عادی دیتا فریم میفرستی نه json "
   ]
  },
  {
   "cell_type": "markdown",
   "metadata": {},
   "source": [
    "در صورت درست بودن دیتا اکانت ساخته میشه و کلید دسترسی واست ارسال میشه \n"
   ]
  },
  {
   "cell_type": "code",
   "execution_count": null,
   "metadata": {},
   "outputs": [],
   "source": [
    "{\n",
    "    \"massage\": \"ok login user \",\n",
    "    \"data\": {\n",
    "        \"username\": \"dhsfgdhjfgdsjhf\",\n",
    "        \"hash_login\": \"hWB`BKB9BVBKCjlQ38g:bGsJM[ocmjZ4h6ExN{wv9NtC`H4Zi`{BFHJ`W:lWFV.VQM7NsPzRgncBYeNDdJDnyNo>X9f9h3T9F:C9T6u:57U2u266y1h4W9G9p8h6h4n:N4S5Y5h3x5I7i6b:g1k9P7.8g:T1d:d4W1O6g9Q5c872r8J7O525F6B5u9k1M7B1o8G3v:841779573485b7w6p6B9M587y28:71p4Y1d5p9y7h549F7o7q:41D9S6s7j9`7R3m2E7U229i5z1i9E314d8.18:58x4P1Q2o7B2i:8622d425K943w2C3e7I4Z3X5E5p9Z6I659N4::Q:n8i5J4x431T2278:f9j:R3B5Z3E6U2s88324`3j9V6t9G4t5G5L1O8E7G2R8z413F:h2\",\n",
    "        \"timestamp\": 1692006059.2008781\n",
    "    },\n",
    "    \"status_code\": 201\n",
    "}"
   ]
  },
  {
   "cell_type": "markdown",
   "metadata": {},
   "source": [
    "در صورت خطا در دیتا های ارسالی "
   ]
  },
  {
   "cell_type": "code",
   "execution_count": null,
   "metadata": {},
   "outputs": [],
   "source": [
    "{\n",
    "    \"massage\": \"You do not have access rights\",\n",
    "    \"data\": {\n",
    "        \"errors\": [\n",
    "            \"Block Ip or not Api\"\n",
    "        ]\n",
    "    },\n",
    "    \"status_code\": 405\n",
    "}\n",
    "# به دلایلی اینجا فیلد غلت رو نشون نمیدیم "
   ]
  },
  {
   "cell_type": "markdown",
   "metadata": {},
   "source": [
    "در تمامی درخواست ها پرتوکل ایمنی هستش "
   ]
  },
  {
   "cell_type": "code",
   "execution_count": null,
   "metadata": {},
   "outputs": [],
   "source": [
    "{\n",
    "    \"cookies\" : \"HASH=%22YfMTle_r4G34iyIiK2euSOgACdxsLkqtX-6pTpDDj94%3D%22;\"\n",
    "} \n",
    "# حتما مواظب این هش باش اگه گمش  کنی و توی درخواست ها ستش نکنی در ان ثانیه سرور بلاکت میکنه \n",
    "# سعی کن یه جای نگه هش داری و هر بار درخواستش نکنی چون توی بازه های کم درخواست حتما بلاک میشی \n",
    "# این هش هر بار تغییر میکنه "
   ]
  }
 ],
 "metadata": {
  "language_info": {
   "name": "python"
  },
  "orig_nbformat": 4
 },
 "nbformat": 4,
 "nbformat_minor": 2
}
