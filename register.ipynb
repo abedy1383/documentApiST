{
 "cells": [
  {
   "cell_type": "code",
   "execution_count": null,
   "metadata": {},
   "outputs": [],
   "source": [
    "# link requests\n",
    "\n",
    "{\n",
    "    \"url\" : \"http://127.0.0.1:8000/api/register/Change/password/\", # واسه تغییر رمز\n",
    "    \"url\" : \"http://127.0.0.1:8000/api/register/Change/email/\", # تغییر ایمیل \n",
    "    \"url\" : \"http://127.0.0.1:8000/api/register/Change/username/\", # تغییر نام کاربری \n",
    "}\n"
   ]
  },
  {
   "cell_type": "markdown",
   "metadata": {},
   "source": [
    "به ترتیب درخواست های هر کدوم"
   ]
  },
  {
   "cell_type": "code",
   "execution_count": null,
   "metadata": {},
   "outputs": [],
   "source": [
    "#password\n",
    "{\n",
    "    \"massage\": \"This route is only for testing with the post method\",\n",
    "    \"data\": {\n",
    "        \"validateor\": [\n",
    "            {\n",
    "                \"hash_login\": {\n",
    "                    \"max_length\": null,\n",
    "                    \"required\": True,\n",
    "                    \"type\": \"CharField\"\n",
    "                }\n",
    "            },\n",
    "            {\n",
    "                \"password\": {\n",
    "                    \"max_length\": null,\n",
    "                    \"required\": True,\n",
    "                    \"type\": \"CharField\"\n",
    "                }\n",
    "            }\n",
    "        ]\n",
    "    },\n",
    "    \"status_code\": 204\n",
    "}\n",
    "\n",
    "#email\n",
    "{\n",
    "    \"massage\": \"This route is only for testing with the post method\",\n",
    "    \"data\": {\n",
    "        \"validateor\": [\n",
    "            {\n",
    "                \"email\": {\n",
    "                    \"max_length\": 254,\n",
    "                    \"required\": True,\n",
    "                    \"type\": \"EmailField\"\n",
    "                }\n",
    "            },\n",
    "            {\n",
    "                \"hash_login\": {\n",
    "                    \"max_length\": null,\n",
    "                    \"required\": True,\n",
    "                    \"type\": \"CharField\"\n",
    "                }\n",
    "            }\n",
    "        ]\n",
    "    },\n",
    "    \"status_code\": 204\n",
    "}\n",
    "\n",
    "# username \n",
    "{\n",
    "    \"massage\": \"This route is only for testing with the post method\",\n",
    "    \"data\": {\n",
    "        \"validateor\": [\n",
    "            {\n",
    "                \"username\": {\n",
    "                    \"max_length\": 20,\n",
    "                    \"required\": True,\n",
    "                    \"type\": \"CharField\"\n",
    "                }\n",
    "            },\n",
    "            {\n",
    "                \"hash_login\": {\n",
    "                    \"max_length\": null,\n",
    "                    \"required\": True,\n",
    "                    \"type\": \"CharField\"\n",
    "                }\n",
    "            }\n",
    "        ]\n",
    "    },\n",
    "    \"status_code\": 204\n",
    "}"
   ]
  },
  {
   "cell_type": "markdown",
   "metadata": {},
   "source": [
    "واسه ارسال دیتا به سرور از مقادیر بالای استفاده میکنی مثلا "
   ]
  },
  {
   "cell_type": "code",
   "execution_count": null,
   "metadata": {},
   "outputs": [],
   "source": [
    "# password\n",
    "{\n",
    "    \"hash_login\" : \"<hash>\" , \n",
    "    \"password\" : \"<password>\" ,\n",
    "}\n",
    "\n",
    "# email\n",
    "{\n",
    "    \"hash_login\" : \"<hash>\" , \n",
    "    \"email\" : \"<email>\" ,\n",
    "}\n",
    "\n",
    "# username\n",
    "{\n",
    "    \"hash_login\" : \"<hash>\" , \n",
    "    \"username\" : \"<username>\" ,\n",
    "}"
   ]
  },
  {
   "cell_type": "markdown",
   "metadata": {},
   "source": [
    "در صورت درست بودن درخواست "
   ]
  },
  {
   "cell_type": "code",
   "execution_count": null,
   "metadata": {},
   "outputs": [],
   "source": [
    "{\n",
    "    \"massage\": \"ok update password\",\n",
    "    \"data\": {\n",
    "        \"username\": \"dhsfgdhjfgdsjhf\",\n",
    "        \"timestamp\": 1693721730.6104858\n",
    "    },\n",
    "    \"status_code\": 201\n",
    "}"
   ]
  },
  {
   "cell_type": "markdown",
   "metadata": {},
   "source": [
    "اشتباه بودن مقادیر وارد شده "
   ]
  },
  {
   "cell_type": "code",
   "execution_count": null,
   "metadata": {},
   "outputs": [],
   "source": [
    "{\n",
    "    \"massage\": \"You do not have access rights\",\n",
    "    \"data\": {\n",
    "        \"errors\": [\n",
    "            \"Block Ip or not Api\"\n",
    "        ]\n",
    "    },\n",
    "    \"status_code\": 405\n",
    "}"
   ]
  },
  {
   "cell_type": "markdown",
   "metadata": {},
   "source": [
    "درصورت تکرار فلید های بخصوص در چندیدن حساب "
   ]
  },
  {
   "cell_type": "code",
   "execution_count": null,
   "metadata": {},
   "outputs": [],
   "source": [
    "{\n",
    "    \"massage\": \"not update Hash\",\n",
    "    \"data\": {\n",
    "        \"errors\": {\n",
    "            \"email\": [\n",
    "                \"User with this Email already exists.\"\n",
    "            ]\n",
    "        }\n",
    "    },\n",
    "    \"status_code\": 503\n",
    "}"
   ]
  }
 ],
 "metadata": {
  "language_info": {
   "name": "python"
  },
  "orig_nbformat": 4
 },
 "nbformat": 4,
 "nbformat_minor": 2
}
