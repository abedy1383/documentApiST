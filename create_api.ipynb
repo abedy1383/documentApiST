{
 "cells": [
  {
   "cell_type": "markdown",
   "metadata": {},
   "source": [
    "document api"
   ]
  },
  {
   "cell_type": "code",
   "execution_count": null,
   "metadata": {},
   "outputs": [],
   "source": [
    "# link requests\n",
    "\n",
    "{\n",
    "    \"url\" : \"http://127.0.0.1:8000/api/create/api/\"\n",
    "}"
   ]
  },
  {
   "cell_type": "markdown",
   "metadata": {},
   "source": [
    "در صورت ارسال درخواست به صورت get"
   ]
  },
  {
   "cell_type": "code",
   "execution_count": null,
   "metadata": {},
   "outputs": [],
   "source": [
    "{\n",
    "    \"massage\": \"This route is only for testing with the post method\",\n",
    "    \"data\": {\n",
    "        \"validateor\": [\n",
    "            {\n",
    "                \"hash_login\": {\n",
    "                    \"max_length\": 10000,\n",
    "                    \"required\": True,\n",
    "                    \"type\": \"CharField\"\n",
    "                }\n",
    "            }\n",
    "        ]\n",
    "    },\n",
    "    \"status_code\": 204\n",
    "}"
   ]
  },
  {
   "cell_type": "markdown",
   "metadata": {},
   "source": [
    "واسه ارسال دیتا به سرور از مقادیر بالای استفاده میکنی مثلا "
   ]
  },
  {
   "cell_type": "code",
   "execution_count": null,
   "metadata": {},
   "outputs": [],
   "source": [
    "{\n",
    "    \"hash_login\" : \"<hash>\"\n",
    "}"
   ]
  },
  {
   "cell_type": "markdown",
   "metadata": {},
   "source": [
    "درخواست post در صورت اشتباه بودن مقدار ها"
   ]
  },
  {
   "cell_type": "code",
   "execution_count": null,
   "metadata": {},
   "outputs": [],
   "source": [
    "{\n",
    "    \"massage\": \"No such hash exists\",\n",
    "    \"data\": {\n",
    "        \"errors\": [\n",
    "            \"Not Found Hash Login\"\n",
    "        ]\n",
    "    },\n",
    "    \"status_code\": 203\n",
    "}"
   ]
  },
  {
   "cell_type": "markdown",
   "metadata": {},
   "source": [
    "در صورت درست بودن مقادیر وارد شده \n",
    "این api فقط واسه تحلیل مورد استفاده قرار میگیره "
   ]
  },
  {
   "cell_type": "code",
   "execution_count": null,
   "metadata": {},
   "outputs": [],
   "source": [
    "{\n",
    "    \"massage\": \"ok create api\",\n",
    "    \"data\": {\n",
    "        \"username\": \"dhsfgdhjfgdsjhf\",\n",
    "        \"hash_api\": \"hgB`BUBEB7BECqlb:5CO83b9QoW.NdjNo58xHIyVrK5m6z{Dg{kGJF3BeRsqHr2unrejKdFTyPs7bZmv75qWDdq>B8Y1461:v4q7L8b168p2F4X4t5W7F:i2k7V1F525F2z8b1766558h8W3W77:[7b4J6e486C4h555d:l2C5Z2x186f6x6O4n:j:u8O3z7I7v2D6F:B5G6E5l9L8H2w4p2P:U:R4r8b3T8i2t8V8h29935q7r:J4z3i4Z:j48757s6o:43{6Q188r8.2W7t5w9s4y5P6j5i4r3Y3O:L2[255r6E8k4T2C9r2b6m5r3q6R9>5>7\",\n",
    "        \"timestamp\": 1693720282.6016126\n",
    "    },\n",
    "    \"status_code\": 201\n",
    "}"
   ]
  },
  {
   "cell_type": "markdown",
   "metadata": {},
   "source": [
    "در صورت نفرستادن مقادیر "
   ]
  },
  {
   "cell_type": "code",
   "execution_count": null,
   "metadata": {},
   "outputs": [],
   "source": [
    "{\n",
    "    \"massage\": \"not create account user\",\n",
    "    \"data\": {\n",
    "        \"errors\": {\n",
    "            \"hash_login\": [\n",
    "                \"This field is required.\"\n",
    "            ]\n",
    "        }\n",
    "    },\n",
    "    \"status_code\": 503\n",
    "}"
   ]
  },
  {
   "cell_type": "markdown",
   "metadata": {},
   "source": [
    "در تمامی درخواست ها پرتوکل ایمنی هستش "
   ]
  },
  {
   "cell_type": "code",
   "execution_count": null,
   "metadata": {},
   "outputs": [],
   "source": [
    "{\n",
    "    \"cookies\" : \"HASH=%22YfMTle_r4G34iyIiK2euSOgACdxsLkqtX-6pTpDDj94%3D%22;\"\n",
    "} \n",
    "# حتما مواظب این هش باش اگه گمش  کنی و توی درخواست ها ستش نکنی در ان ثانیه سرور بلاکت میکنه \n",
    "# سعی کن یه جای نگه هش داری و هر بار درخواستش نکنی چون توی بازه های کم درخواست حتما بلاک میشی \n",
    "# این هش هر بار تغییر میکنه "
   ]
  }
 ],
 "metadata": {
  "language_info": {
   "name": "python"
  },
  "orig_nbformat": 4
 },
 "nbformat": 4,
 "nbformat_minor": 2
}
