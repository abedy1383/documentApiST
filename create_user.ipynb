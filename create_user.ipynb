{
 "cells": [
  {
   "cell_type": "markdown",
   "metadata": {},
   "source": [
    "document api"
   ]
  },
  {
   "cell_type": "code",
   "execution_count": null,
   "metadata": {},
   "outputs": [],
   "source": [
    "# link requests\n",
    "\n",
    "{\n",
    "    \"url\" : \"http://127.0.0.1:8000/api/create/user/\"\n",
    "}"
   ]
  },
  {
   "cell_type": "markdown",
   "metadata": {},
   "source": [
    "در صورت ارسال درخواست به صورت get"
   ]
  },
  {
   "cell_type": "code",
   "execution_count": null,
   "metadata": {},
   "outputs": [],
   "source": [
    "{\n",
    "    \"massage\": \"This route is only for testing with the post method\", # مگه این لینک فقط واسه پست هستش \n",
    "    \"data\": {\n",
    "        \"validateor\": [\n",
    "            {\n",
    "                \"username\": {\n",
    "                    \"max_length\": 20, # بیشترین ورودی کاراکتر \n",
    "                    \"required\": True, # واجب بودن \n",
    "                    \"type\": \"CharField\"  # نوع فیلد ورودی \n",
    "                }\n",
    "            },\n",
    "            {\n",
    "                \"password\": {\n",
    "                    \"max_length\": 20,\n",
    "                    \"required\": True,\n",
    "                    \"type\": \"CharField\"\n",
    "                }\n",
    "            },\n",
    "            {\n",
    "                \"email\": {\n",
    "                    \"max_length\": 254,\n",
    "                    \"required\": True,\n",
    "                    \"type\": \"EmailField\"\n",
    "                }\n",
    "            }\n",
    "        ]\n",
    "    },\n",
    "    \"status_code\": 204\n",
    "}"
   ]
  },
  {
   "cell_type": "markdown",
   "metadata": {},
   "source": [
    "واسه ارسال دیتا به سرور از مقادیر بالای استفاده میکنی مثلا "
   ]
  },
  {
   "cell_type": "code",
   "execution_count": null,
   "metadata": {},
   "outputs": [],
   "source": [
    "#نوعی دیتا ارسالی به سرور \n",
    "{\n",
    "    \"username\" : \"abolfazl\",\n",
    "    \"email\" : \"abolfazl@gmail.com\",\n",
    "    \"password\" : \"rezadada:)\"\n",
    "}\n",
    "#همه دیتا های ارسالی ه صورت عادی دیتا فریم میفرستی نه json "
   ]
  },
  {
   "cell_type": "markdown",
   "metadata": {},
   "source": [
    "در صورت درست بودن دیتا اکانت ساخته میشه و کلید دسترسی واست ارسال میشه "
   ]
  },
  {
   "cell_type": "code",
   "execution_count": null,
   "metadata": {},
   "outputs": [],
   "source": [
    "{\n",
    "    \"massage\": \"ok create account\",\n",
    "    \"data\": {\n",
    "        \"username\": \"dhsfgdhjfgdsjhf\",\n",
    "        \"email\": \"abol@gmail.com\",\n",
    "        \"hash_login\": \"hlBvB1BtB6BTCllz3wgvRNqkiXkWhDfmMhG9nv.7f`oykpNB9l8PKTUfcvykucd26vT5i.hk7Qh8bjHH3yqRtBK>z7x8T8r1U3h1`6G5.3O3T:d5c7X7N1j8{7u4G2Z564X5B6Z:F749k4b249P3w2F5m7F98321P1I596u821t5t3g5z6g4S1T8K2W:T8e:n1R518i1R1R1D3H962q9L5Q8o3n8L2d7h8::w7E:{7O1[9R2x2H1B9C2X:S7E6w8c:f9f5d1M2P2e1d5:6L:j4R8E8f7L9K7u126c3W7Z8R8V1C6V968L7n3s23367s2o5G172L2o2q6e:O7o1M6Y9D:C9G19292x7s4V:b4E3f3V9:4t9Z8::h1C3F9E5N149.:v49143t4R5G3c5Z:43G9\",\n",
    "        \"timestamp\": 1692005417.7181983\n",
    "    },\n",
    "    \"status_code\": 201\n",
    "}"
   ]
  },
  {
   "cell_type": "markdown",
   "metadata": {},
   "source": [
    "در صورت خطا در دیتا های ارسالی "
   ]
  },
  {
   "cell_type": "code",
   "execution_count": null,
   "metadata": {},
   "outputs": [],
   "source": [
    "{\n",
    "    \"massage\": \"not create account user\",\n",
    "    \"data\": {\n",
    "        \"errors\": {\n",
    "            \"username\": [\n",
    "                \"User with this Username already exists.\"\n",
    "            ],\n",
    "            \"email\": [\n",
    "                \"User with this Email already exists.\"\n",
    "            ]\n",
    "        }\n",
    "    },\n",
    "    \"status_code\": 503\n",
    "}\n",
    "# این میگه که نام کاربری و ایمیل انتخاب شده از قبل در سرور وجود دارد "
   ]
  },
  {
   "cell_type": "markdown",
   "metadata": {},
   "source": [
    "در تمامی درخواست ها پرتوکل ایمنی هستش "
   ]
  },
  {
   "cell_type": "code",
   "execution_count": null,
   "metadata": {},
   "outputs": [],
   "source": [
    "{\n",
    "    \"cookies\" : \"HASH=%22YfMTle_r4G34iyIiK2euSOgACdxsLkqtX-6pTpDDj94%3D%22;\"\n",
    "} \n",
    "# حتما مواظب این هش باش اگه گمش  کنی و توی درخواست ها ستش نکنی در ان ثانیه سرور بلاکت میکنه \n",
    "# سعی کن یه جای نگه هش داری و هر بار درخواستش نکنی چون توی بازه های کم درخواست حتما بلاک میشی \n",
    "# این هش هر بار تغییر میکنه "
   ]
  }
 ],
 "metadata": {
  "language_info": {
   "name": "python"
  },
  "orig_nbformat": 4
 },
 "nbformat": 4,
 "nbformat_minor": 2
}
