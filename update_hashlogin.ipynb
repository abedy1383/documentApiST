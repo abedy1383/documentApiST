{
 "cells": [
  {
   "cell_type": "code",
   "execution_count": null,
   "metadata": {},
   "outputs": [],
   "source": [
    "# link requests\n",
    "\n",
    "{\n",
    "    \"url\" : \"http://127.0.0.1:8000/api/update/hash/\"\n",
    "}"
   ]
  },
  {
   "cell_type": "markdown",
   "metadata": {},
   "source": [
    "در صورت ارسال درخواست به صورت get"
   ]
  },
  {
   "cell_type": "code",
   "execution_count": null,
   "metadata": {},
   "outputs": [],
   "source": [
    "{\n",
    "    \"massage\": \"This route is only for testing with the post method\",\n",
    "    \"data\": {\n",
    "        \"validateor\": [\n",
    "            {\n",
    "                \"hash_login\": {\n",
    "                    \"max_length\": null,\n",
    "                    \"required\": true,\n",
    "                    \"type\": \"CharField\"\n",
    "                }\n",
    "            }\n",
    "        ]\n",
    "    },\n",
    "    \"status_code\": 204\n",
    "}"
   ]
  },
  {
   "cell_type": "markdown",
   "metadata": {},
   "source": [
    "واسه ارسال دیتا به سرور از مقادیر بالای استفاده میکنی مثلا "
   ]
  },
  {
   "cell_type": "code",
   "execution_count": null,
   "metadata": {},
   "outputs": [],
   "source": [
    "{\n",
    "    \"hash_login\" : \"<hash>\"\n",
    "}"
   ]
  },
  {
   "cell_type": "markdown",
   "metadata": {},
   "source": [
    "درصورت اشتباه بودن مقادیر ارسالی "
   ]
  },
  {
   "cell_type": "code",
   "execution_count": null,
   "metadata": {},
   "outputs": [],
   "source": [
    "{\n",
    "    \"massage\": \"You do not have access rights\",\n",
    "    \"data\": {\n",
    "        \"errors\": [\n",
    "            \"Block Ip or not Api\"\n",
    "        ]\n",
    "    },\n",
    "    \"status_code\": 405\n",
    "}"
   ]
  },
  {
   "cell_type": "markdown",
   "metadata": {},
   "source": [
    "در صورت درست بودن مقادیر اپدیت میشه "
   ]
  },
  {
   "cell_type": "code",
   "execution_count": null,
   "metadata": {},
   "outputs": [],
   "source": [
    "{\n",
    "    \"massage\": \"ok update Hash\",\n",
    "    \"data\": {\n",
    "        \"username\": \"dhsfgdhjfgdsjhf\",\n",
    "        \"hash_login\": \"hoBfBtB5B{B:CrlT:wDyZvrywt:uDszd7TFPJ1b364:qmjqB6MlXM9ZfqtvCXxjWqK6Cp4hpYrdztMb.P4:M{ZS>48E895J79953y9R6{7.5H:d9G189w4g7:6K2Q1W6:3Q9w7.5k6P4t1b9C1j7y1v:r:y6f757G2c226L8m3U2Q7L876f2B9U9C7f9u6v2v916l7{9s8f8C538N6s797k6w3:5J227c7F7K88:t1N4L157r6B5`3x5X8v:E382H:i1e4V6K8s1.5q638V:m:V4G1Y651T785T6u9C3j2X2k7u7y345Y3g4d1M3[6.1b3G:42O9O5d97:O2B3c8f8f8j412V1k5P:F8L1x9v418c9U9i6.5B5w:N:.9r8z712s571[7L9u14448E8M3L:L2\",\n",
    "        \"timestamp\": 1693722154.7555852\n",
    "    },\n",
    "    \"status_code\": 201\n",
    "}"
   ]
  },
  {
   "cell_type": "markdown",
   "metadata": {},
   "source": []
  },
  {
   "cell_type": "code",
   "execution_count": null,
   "metadata": {},
   "outputs": [],
   "source": []
  }
 ],
 "metadata": {
  "language_info": {
   "name": "python"
  },
  "orig_nbformat": 4
 },
 "nbformat": 4,
 "nbformat_minor": 2
}
