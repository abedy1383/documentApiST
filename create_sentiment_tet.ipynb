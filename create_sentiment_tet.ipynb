{
 "cells": [
  {
   "cell_type": "markdown",
   "metadata": {},
   "source": [
    "document api"
   ]
  },
  {
   "cell_type": "code",
   "execution_count": null,
   "metadata": {},
   "outputs": [],
   "source": [
    "# link requests\n",
    "\n",
    "{\n",
    "    \"url\" : \"http://127.0.0.1:8000/api/create/sentiment/\"\n",
    "}"
   ]
  },
  {
   "cell_type": "markdown",
   "metadata": {},
   "source": [
    "در صورت ارسال درخواست به صورت get"
   ]
  },
  {
   "cell_type": "code",
   "execution_count": null,
   "metadata": {},
   "outputs": [],
   "source": [
    "{\n",
    "    \"massage\": \"This route is only for testing with the post method\",\n",
    "    \"data\": {\n",
    "        \"validateor\": [\n",
    "            {\n",
    "                \"text\": {\n",
    "                    \"max_length\": 1000,\n",
    "                    \"required\": True,\n",
    "                    \"type\": \"CharField\"\n",
    "                }\n",
    "            },\n",
    "            {\n",
    "                \"api\": {\n",
    "                    \"max_length\": 1000,\n",
    "                    \"required\": True,\n",
    "                    \"type\": \"CharField\"\n",
    "                }\n",
    "            }\n",
    "        ]\n",
    "    },\n",
    "    \"status_code\": 204\n",
    "}"
   ]
  },
  {
   "cell_type": "markdown",
   "metadata": {},
   "source": [
    "واسه ارسال دیتا به سرور از مقادیر بالای استفاده میکنی مثلا "
   ]
  },
  {
   "cell_type": "code",
   "execution_count": null,
   "metadata": {},
   "outputs": [],
   "source": [
    "{\n",
    "    \"text\" : \"{text}\" , \n",
    "    \"api\" : \"{api}\"\n",
    "}"
   ]
  },
  {
   "cell_type": "markdown",
   "metadata": {},
   "source": [
    "درخواست post در صورت اشتباه بودن مقدار ها"
   ]
  },
  {
   "cell_type": "code",
   "execution_count": null,
   "metadata": {},
   "outputs": [],
   "source": [
    "{\n",
    "    \"massage\": \"You do not have access rights\",\n",
    "    \"data\": {\n",
    "        \"errors\": [\n",
    "            \"Block Ip or not Api\"\n",
    "        ]\n",
    "    },\n",
    "    \"status_code\": 405\n",
    "}"
   ]
  },
  {
   "cell_type": "markdown",
   "metadata": {},
   "source": [
    "درخواست post \n",
    "توی این جا code کلید اصلی ما واسه دست یافتن به تحلیل هستش "
   ]
  },
  {
   "cell_type": "code",
   "execution_count": null,
   "metadata": {},
   "outputs": [],
   "source": [
    "{\n",
    "    \"massage\": \"ok sentiment text persion\",\n",
    "    \"data\": {\n",
    "        \"username\": \"dhsfgdhjfgdsjhf\",\n",
    "        \"code\": \"tvq6T_Ie74tCUQf5vhZ075fslpqsmyXDw_se_5z9WOw=\",\n",
    "        \"timestamp\": 1693720734.6045656\n",
    "    },\n",
    "    \"status_code\": 200\n",
    "}"
   ]
  },
  {
   "cell_type": "markdown",
   "metadata": {},
   "source": [
    "در صورت نفرستادن مقادیر "
   ]
  },
  {
   "cell_type": "code",
   "execution_count": null,
   "metadata": {},
   "outputs": [],
   "source": [
    "{\n",
    "    \"massage\": \"not create account user\",\n",
    "    \"data\": {\n",
    "        \"errors\": {\n",
    "            \"text\": [\n",
    "                \"This field is required.\"\n",
    "            ]\n",
    "        }\n",
    "    },\n",
    "    \"status_code\": 503\n",
    "}"
   ]
  },
  {
   "cell_type": "markdown",
   "metadata": {},
   "source": [
    "در تمامی درخواست ها پرتوکل ایمنی هستش "
   ]
  },
  {
   "cell_type": "code",
   "execution_count": null,
   "metadata": {},
   "outputs": [],
   "source": [
    "{\n",
    "    \"cookies\" : \"HASH=%22YfMTle_r4G34iyIiK2euSOgACdxsLkqtX-6pTpDDj94%3D%22;\"\n",
    "} \n",
    "# حتما مواظب این هش باش اگه گمش  کنی و توی درخواست ها ستش نکنی در ان ثانیه سرور بلاکت میکنه \n",
    "# سعی کن یه جای نگه هش داری و هر بار درخواستش نکنی چون توی بازه های کم درخواست حتما بلاک میشی \n",
    "# این هش هر بار تغییر میکنه "
   ]
  }
 ],
 "metadata": {
  "language_info": {
   "name": "python"
  },
  "orig_nbformat": 4
 },
 "nbformat": 4,
 "nbformat_minor": 2
}
